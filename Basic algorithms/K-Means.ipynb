{
 "cells": [
  {
   "cell_type": "markdown",
   "id": "c51095d7",
   "metadata": {},
   "source": [
    "\n",
    "## Algorithm description\n",
    "\n",
    "<b>Approach:</b> Cluster data by separate samples to n groups of equal variance.\n",
    "The objective is to minimise inertia (Within cluster sum of squares criterion).\n",
    "\n",
    "<b>Inertia criterion equation:</b>\n",
    "\n",
    "$$\n",
    "  \\sum_{j=1}^{n} \\min_{\\mu_{j} \\in C}(\\Arrowvert x-\\mu_{{j}}\\Arrowvert)\n",
    "$$\n",
    "<b>Algorithm</b>\n",
    "<ol>\n",
    "<li>Choose centroids</li>\n",
    "\t loop until number of iterations is met\n",
    "\t <br>\n",
    "\t <br>\n",
    "<b>Loop body</b>:\n",
    "\t<li>Assign each sample to its nearest centroid (label update step)</li>\n",
    "<br>\n",
    "<li>Recompute centroids for the next iteration by taking mean of alll samples assigned to each centroid.\n",
    "<br>\n",
    "<br>\n",
    "If new centroids - old centroids is smaller than a threshold, break out of the loop.\n",
    "If the inertia calculation from new centroids isn't smaller than current minimum don't reassign the centroids.\n",
    "</li>\n",
    "</ol>\n",
    "\n",
    "<b>Scalability</b>: Scales well.\n",
    "\n",
    "<b>Disadvantages</b>:\n",
    "\n",
    "Clusters assumed to be convex and isotropic (Separable and of equal variance).\n",
    "\n",
    "That is to say, the algorithm will not perform well on clusters with irregular shapes/elongated clusters\n",
    "\n",
    "Inertia is not a normalised metric. In very high-dimensional spaces, can suffer from the curse of dimensionality\n",
    "\n",
    "## Coded algorithm with sample dataset"
   ]
  },
  {
   "cell_type": "code",
   "execution_count": null,
   "id": "05f7ee04",
   "metadata": {
    "lines_to_next_cell": 0
   },
   "outputs": [],
   "source": [
    "print(\"Hello world\")"
   ]
  },
  {
   "cell_type": "code",
   "execution_count": null,
   "id": "ff695b27",
   "metadata": {
    "lines_to_next_cell": 0
   },
   "outputs": [],
   "source": [
    "print(\"Hello world\")"
   ]
  },
  {
   "cell_type": "code",
   "execution_count": null,
   "id": "7ac52453",
   "metadata": {},
   "outputs": [],
   "source": [
    "import numpy as np\n",
    "from sklearn.datasets import make_blobs\n",
    "import matplotlib.pyplot as plt\n",
    "n_samples = 1500\n",
    "random_state = 170\n",
    "\n",
    "X, y = make_blobs(n_samples=n_samples, random_state=random_state)\n",
    "plt.scatter(X[:,0],X[:,1],c = y)"
   ]
  },
  {
   "cell_type": "code",
   "execution_count": 4,
   "id": "b1a4dda7",
   "metadata": {
    "jupyter": {
     "is_executing": false
    }
   },
   "outputs": [
    {
     "name": "stdout",
     "output_type": "stream",
     "text": [
      "(1500, 1, 2)\n",
      "[[-5.19811282e+00  6.41869316e-01]\n",
      " [-5.75229538e+00  4.18627111e-01]\n",
      " [-1.08448984e+01 -7.55352273e+00]\n",
      " ...\n",
      " [ 1.36105255e+00 -9.07491863e-01]\n",
      " [-3.54141108e-01  7.12241630e-01]\n",
      " [ 1.88577252e+00  1.41185693e-03]]\n",
      "(3, 2)\n",
      "(1500, 3, 2)\n",
      "(1500, 3)\n"
     ]
    }
   ],
   "source": [
    "#Broadcasting logic\n",
    "\n",
    "clusters = np.array([[1,1],[-1,-1],[2, -2]])\n",
    "print(X[:,None].shape)\n",
    "print(X[:None])\n",
    "print(clusters.shape)\n",
    "differences = X[:,None] - clusters\n",
    "print(differences.shape)\n",
    "vals = np.sum(differences**2,axis = -1)\n",
    "print(vals.shape)\n",
    "minimums = np.argmin(vals,axis = -1)\n",
    "\n",
    "cluster_means = [X[minimums == i].mean(axis = 0) for i in range(len(clusters))]\n",
    "\n",
    "#End of broadcasting logic\n"
   ]
  },
  {
   "cell_type": "code",
   "execution_count": 5,
   "id": "58d75aeb",
   "metadata": {
    "jupyter": {
     "is_executing": false
    },
    "lines_to_next_cell": 0
   },
   "outputs": [],
   "source": [
    "class KMeans():\n",
    "    def __init__(self,n_clusters = 8, max_iter = 300, tol = 0.0001, random_state = None):\n",
    "        self._labels = None\n",
    "        self._iter = 0\n",
    "        self._n_clusters = n_clusters\n",
    "        self._max_iter = max_iter\n",
    "        self._tol = tol\n",
    "        self._random_state = random_state\n",
    "        self._centroids = None\n",
    "        self._inertia = np.inf\n",
    "        \n",
    "    def fit(self,X,y = None):\n",
    "        #Set random seed\n",
    "        np.random.seed(self._random_state)\n",
    "        #Initial selection of centroids\n",
    "        self._centroids = X[np.random.choice(len(X),self._n_clusters,replace = False)]\n",
    "        for _ in range (self._max_iter):\n",
    "            #assign each sample to its nearest centroid (label update step)\n",
    "            self.assign_label(X)\n",
    "\n",
    "            new_centroids = np.array([X[self._labels == i].mean(axis = 0) if np.any(self._labels == i) else self._centroids[i] for i in range(self._n_clusters)])\n",
    "            new_inertia = np.sum((X - new_centroids[self._labels])**2)\n",
    "\n",
    "            if(np.linalg.norm(new_centroids - self._centroids) < self._tol):\n",
    "                break\n",
    "\n",
    "            if new_inertia < self._inertia:\n",
    "                self._centroids = new_centroids\n",
    "                self._inertia = new_inertia\n",
    "            \n",
    "            self._iter += 1\n",
    "            print(self._iter)\n",
    "        \n",
    "\n",
    "    def assign_label(self,X):\n",
    "        differences = (X[:,None] - self._centroids)\n",
    "        distances_between_centroids = np.sum(differences**2,axis = -1)\n",
    "        self._labels = np.argmin(distances_between_centroids,axis = -1)\n",
    "        return"
   ]
  },
  {
   "cell_type": "code",
   "execution_count": 9,
   "id": "3e73e2c9",
   "metadata": {
    "jupyter": {
     "is_executing": false
    },
    "lines_to_next_cell": 0
   },
   "outputs": [],
   "source": [
    "kmeans = KMeans(n_clusters = 3, max_iter = 300, tol = 0.00001, random_state = random_state)"
   ]
  },
  {
   "cell_type": "code",
   "execution_count": 8,
   "id": "cbc364ba",
   "metadata": {
    "jupyter": {
     "is_executing": false
    },
    "lines_to_next_cell": 2
   },
   "outputs": [
    {
     "name": "stdout",
     "output_type": "stream",
     "text": [
      "1\n",
      "2\n",
      "3\n"
     ]
    }
   ],
   "source": [
    "kmeans.fit(X)"
   ]
  },
  {
   "cell_type": "code",
   "execution_count": 12,
   "id": "7120fa09",
   "metadata": {
    "jupyter": {
     "is_executing": false
    },
    "lines_to_next_cell": 0
   },
   "outputs": [],
   "source": [
    "def plot_results(clustering_class,X):\n",
    "\tplt.figure(figsize = (10,8))\n",
    "\tplt.title(\"K means algorithm\")\n",
    "\tplt.scatter(X[:,0],X[:,1],c = clustering_class._labels,label = \"datapoints\")\n",
    "\tplt.scatter(clustering_class._centroids[:, 0], clustering_class._centroids[:, 1], marker='x', s=200, color='red', label='Centroids')\n",
    "\tplt.legend()"
   ]
  },
  {
   "cell_type": "code",
   "execution_count": 15,
   "id": "db46c069",
   "metadata": {
    "jupyter": {
     "is_executing": false
    },
    "lines_to_next_cell": 0
   },
   "outputs": [],
   "source": [
    "#good clusters\n",
    "plot_results(kmeans,X)"
   ]
  },
  {
   "cell_type": "code",
   "execution_count": 5,
   "id": "1a27582e",
   "metadata": {
    "jupyter": {
     "is_executing": false
    },
    "lines_to_next_cell": 0
   },
   "outputs": [
    {
     "name": "stdout",
     "output_type": "stream",
     "text": [
      "1\n",
      "2\n",
      "3\n",
      "4\n",
      "5\n",
      "6\n",
      "7\n",
      "8\n",
      "9\n",
      "10\n",
      "11\n",
      "12\n",
      "13\n",
      "14\n",
      "15\n",
      "16\n",
      "17\n"
     ]
    }
   ],
   "source": [
    "transformation = [[0.60834549, -0.63667341], [-0.40887718, 0.85253229]]\n",
    "X_aniso = np.dot(X, transformation)\n",
    "\n",
    "kmeans_2 = KMeans(n_clusters = 3, max_iter = 300, tol = 0.00001, random_state = random_state)\n",
    "kmeans_2.fit(X_aniso)"
   ]
  },
  {
   "cell_type": "code",
   "execution_count": 3,
   "id": "550bacf5",
   "metadata": {
    "jupyter": {
     "is_executing": false
    },
    "lines_to_next_cell": 0
   },
   "outputs": [
    {
     "name": "stdout",
     "output_type": "stream",
     "text": [
      "17\n"
     ]
    }
   ],
   "source": [
    "print(kmeans_2._iter)"
   ]
  },
  {
   "cell_type": "code",
   "execution_count": 4,
   "id": "350c922e",
   "metadata": {
    "jupyter": {
     "is_executing": false
    }
   },
   "outputs": [],
   "source": [
    "#Poor clusters\n",
    "plot_results(kmeans_2,X_aniso)"
   ]
  }
 ],
 "metadata": {
  "jupytext": {
   "cell_metadata_filter": "-all",
   "formats": "ipynb,md",
   "main_language": "python"
  }
 },
 "nbformat": 4,
 "nbformat_minor": 5
}
