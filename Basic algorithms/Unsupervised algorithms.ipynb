{
 "cells": [
  {
   "cell_type": "markdown",
   "id": "0b026e81",
   "metadata": {},
   "source": [
    "1"
   ]
  }
 ],
 "metadata": {
  "jupytext": {
   "cell_metadata_filter": "-all",
   "formats": "ipynb,md",
   "main_language": "python"
  }
 },
 "nbformat": 4,
 "nbformat_minor": 5
}
